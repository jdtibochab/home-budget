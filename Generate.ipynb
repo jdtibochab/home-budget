{
 "cells": [
  {
   "cell_type": "markdown",
   "id": "ffb1f171",
   "metadata": {},
   "source": [
    "## Generate data file from a single multi-month Chase csv"
   ]
  },
  {
   "cell_type": "code",
   "execution_count": null,
   "id": "6959102b-79c5-4f48-babe-2a8d845d60f1",
   "metadata": {},
   "outputs": [
    {
     "name": "stdout",
     "output_type": "stream",
     "text": [
      "The autoreload extension is already loaded. To reload it, use:\n",
      "  %reload_ext autoreload\n"
     ]
    }
   ],
   "source": [
    "import pandas\n",
    "from io import StringIO  # Import StringIO for handling in-memory text streams\n",
    "from datetime import datetime\n",
    "from scripts.helpers import last_day_of_month\n",
    "import os\n",
    "%load_ext autoreload\n",
    "%autoreload 2\n",
    "pandas.set_option('display.max_colwidth', None)\n",
    "pandas.options.display.float_format = \"{:,.1f}\".format\n",
    "if not os.path.exists('data'):\n",
    "    os.makedirs('data')"
   ]
  },
  {
   "cell_type": "code",
   "execution_count": 38,
   "id": "26e86924",
   "metadata": {},
   "outputs": [],
   "source": [
    "def load_and_fix_csv(file_path):\n",
    "    with open(file_path, 'r') as f:\n",
    "        lines = f.readlines()\n",
    "\n",
    "    # Detect and fix missing \",,\" at the end of the header\n",
    "    if not lines[0].strip().endswith(\",,\"):\n",
    "        lines[0] = lines[0].strip() + \",,\\n\"\n",
    "\n",
    "    # Load the fixed CSV into pandas\n",
    "    return pandas.read_csv(StringIO(''.join(lines)))  # Use StringIO here"
   ]
  },
  {
   "cell_type": "code",
   "execution_count": null,
   "id": "03f11e07-4fce-4958-b951-c3af4fbcac87",
   "metadata": {},
   "outputs": [],
   "source": [
    "folder = \"2025-04\"\n",
    "date = datetime.strptime(folder, '%Y-%m')\n",
    "try:\n",
    "    os.mkdir(\"./data/{}\".format(folder))\n",
    "except:\n",
    "    pass"
   ]
  },
  {
   "cell_type": "code",
   "execution_count": 57,
   "id": "b8a72fea",
   "metadata": {},
   "outputs": [],
   "source": [
    "lst = [(i,load_and_fix_csv(\"./tmp/\"+i)) for i in os.listdir(\"./tmp/\") if \"CSV\" in i]"
   ]
  },
  {
   "cell_type": "code",
   "execution_count": 58,
   "id": "6b01b9df-446d-4025-83c5-f00a73b60c9e",
   "metadata": {},
   "outputs": [
    {
     "name": "stdout",
     "output_type": "stream",
     "text": [
      "Chase4009_Activity20241201_20250430_20250516.CSV\n",
      "Chase3197_Activity_20250515.CSV\n",
      "Chase9000_Activity_20250515.CSV\n"
     ]
    }
   ],
   "source": [
    "for f,i in lst:\n",
    "    print(f)\n",
    "    if \"CSV\" not in f:\n",
    "        continue\n",
    "    try:\n",
    "        i[\"Post Date\"] = i['Post Date'].apply(lambda x: datetime.strptime(x, '%m/%d/%Y'))\n",
    "        i[(i[\"Post Date\"] >= date) & (i[\"Post Date\"] <= last_day_of_month(date))].to_csv(\"./data/{}/{}\".format(folder,f))\n",
    "    except:\n",
    "        i[\"Posting Date\"] = i['Posting Date'].apply(lambda x: datetime.strptime(x, '%m/%d/%Y'))\n",
    "        i[(i[\"Posting Date\"] >= date) & (i[\"Posting Date\"] <= last_day_of_month(date))].to_csv(\"./data/{}/{}\".format(folder,f))"
   ]
  }
 ],
 "metadata": {
  "kernelspec": {
   "display_name": "html-parsing",
   "language": "python",
   "name": "python3"
  },
  "language_info": {
   "codemirror_mode": {
    "name": "ipython",
    "version": 3
   },
   "file_extension": ".py",
   "mimetype": "text/x-python",
   "name": "python",
   "nbconvert_exporter": "python",
   "pygments_lexer": "ipython3",
   "version": "3.10.12"
  }
 },
 "nbformat": 4,
 "nbformat_minor": 5
}
