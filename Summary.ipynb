{
 "cells": [
  {
   "cell_type": "code",
   "execution_count": null,
   "id": "4df5daeb-9ef8-4b6e-aad0-656b5df5a368",
   "metadata": {},
   "outputs": [],
   "source": [
    "import pandas\n",
    "import os\n",
    "from scripts.statement import Summary\n",
    "import matplotlib.pyplot as plt\n",
    "%load_ext autoreload\n",
    "%autoreload 2\n",
    "pandas.set_option('display.max_colwidth', None)\n",
    "pandas.options.display.float_format = \"{:,.1f}\".format\n",
    "if not os.path.exists('data'):\n",
    "    os.makedirs('data')\n",
    "if not os.path.exists('img'):\n",
    "    os.makedirs('img')"
   ]
  },
  {
   "cell_type": "code",
   "execution_count": null,
   "id": "03c02e63-8f63-4934-b43b-33c1cd1d6e1f",
   "metadata": {},
   "outputs": [],
   "source": [
    "S = Summary(years=[\"2025\",\"2026\"])"
   ]
  },
  {
   "cell_type": "code",
   "execution_count": null,
   "id": "f9350809-8240-437d-8598-697dca64e512",
   "metadata": {},
   "outputs": [],
   "source": [
    "S.update()"
   ]
  },
  {
   "cell_type": "code",
   "execution_count": null,
   "id": "941f4138-08d6-435a-a1d3-e9aa2a62cecc",
   "metadata": {},
   "outputs": [],
   "source": [
    "df = S.projected.copy()\n",
    "df.to_csv(\"data/{}/summary.csv\".format(S.folders[-1]))\n",
    "df"
   ]
  },
  {
   "cell_type": "code",
   "execution_count": null,
   "id": "4aa317ca",
   "metadata": {},
   "outputs": [],
   "source": [
    "for y in S.years:\n",
    "    print(f\"Year: {y}\")\n",
    "    tmp = df[[i for i in df.columns if y in i]]\n",
    "    total_income = tmp[tmp.index.str.contains(\"Payroll|BBVA\")].sum().sum()\n",
    "    print(f\"   Total income: ${total_income:,.1f}\")\n",
    "    total_savings = tmp.sum().sum()\n",
    "    print(f\"   Total savings: ${total_savings:,.1f}\")\n",
    "    print(f\"   Average monthly income: ${total_income/12:,.1f}\")\n",
    "    print(f\"   Average monthly savings: ${total_savings/12:,.1f}\")\n",
    "    print(f\"   Average savings rate: {total_savings/total_income*100:,.1f}%\")\n",
    "    final = S.projected_balance[f\"{y}-12\"]\n",
    "    print(f\"   Final balance: ${final:,.1f}\")\n"
   ]
  },
  {
   "cell_type": "markdown",
   "id": "9d32a582",
   "metadata": {},
   "source": [
    "#### Subscriptions"
   ]
  },
  {
   "cell_type": "code",
   "execution_count": null,
   "id": "b18dd58a",
   "metadata": {},
   "outputs": [],
   "source": [
    "subscriptions = S.get_subscriptions()\n",
    "subscriptions"
   ]
  },
  {
   "cell_type": "markdown",
   "id": "6affa51a",
   "metadata": {},
   "source": [
    "## Report"
   ]
  },
  {
   "cell_type": "code",
   "execution_count": null,
   "id": "16fb68af",
   "metadata": {},
   "outputs": [],
   "source": [
    "S.update()\n",
    "fig,ax = plt.subplots(1,1,figsize=(10,5))\n",
    "# Plot projected balance\n",
    "S.projected_balance.plot(marker=\"o\",color=\"black\",linestyle=\"--\",ax=ax)\n",
    "print(f\"Final balance: ${S.projected_balance.iloc[-1]:,.2f}\")\n",
    "\n",
    "# Plot actual balance\n",
    "S.balance.plot(marker=\"o\",color=\"black\",ax=ax)\n",
    "# Plot area plot with no lines\n",
    "S.balances.T.plot.area(ax=ax,linewidth=0)\n",
    "\n",
    "# Set the title and labels\n",
    "_=ax.set_xticks(ticks=range(len(S.projected_balance)), labels=S.projected_balance.index, rotation=45)\n",
    "# Plot with Y-axis formatted as currency\n",
    "ax.yaxis.set_major_formatter('${x:,.0f}')\n",
    "plt.ylabel(\"Balance\")\n",
    "plt.savefig(\"img/{}-projected.png\".format(S.folders[-1]),format=\"PNG\")"
   ]
  },
  {
   "cell_type": "code",
   "execution_count": null,
   "id": "e672e919",
   "metadata": {},
   "outputs": [],
   "source": [
    "fig,ax=plt.subplots(1,1,figsize=(10,5))\n",
    "categories = [\"Groceries\",\"Shopping\",\"Food & Drink\",\"SDGE\",\"Travel\"]\n",
    "colors = [\"#FD5F5F\",\"#337CC6\",\"#3BA13B\",\"#C68B51\",\"#C8B12D\"]\n",
    "S.projected.loc[categories].T.plot(marker=\"o\",linestyle=\"--\",ax=ax,color=colors,legend=False)\n",
    "S.summary.loc[categories].T.plot(marker=\"o\",ax=ax,color=colors)\n",
    "_=ax.set_xticks(ticks=range(len(S.projected.columns)), labels=S.projected.columns, rotation=45)\n",
    "ax.invert_yaxis()\n",
    "ax.yaxis.set_major_formatter('{x:,.0f}')\n",
    "plt.ylabel(\"Charge\")\n",
    "plt.savefig(\"./img/{}_individual.png\".format(S.id),format=\"PNG\")"
   ]
  },
  {
   "cell_type": "markdown",
   "id": "4d6f0996",
   "metadata": {},
   "source": [
    "## Changes"
   ]
  },
  {
   "cell_type": "code",
   "execution_count": null,
   "id": "e14b6b61",
   "metadata": {},
   "outputs": [],
   "source": [
    "df.sum()"
   ]
  },
  {
   "cell_type": "code",
   "execution_count": null,
   "id": "661415f6",
   "metadata": {},
   "outputs": [],
   "source": [
    "df.sum().plot(kind='bar', figsize=(6,5), title=\"Changes\")\n",
    "# Draw a line at current date\n",
    "current_date = df.columns.to_list().index(S.folders[-1])\n",
    "plt.axvline(x=current_date, color='r', linestyle='--', label='Current Date')\n",
    "plt.legend()\n",
    "plt.title(\"Projected Summary\")\n",
    "_=plt.xticks(rotation=45)"
   ]
  },
  {
   "cell_type": "code",
   "execution_count": null,
   "id": "0e76c280",
   "metadata": {},
   "outputs": [],
   "source": [
    "S.update()\n",
    "df = S.projected.copy()"
   ]
  },
  {
   "cell_type": "code",
   "execution_count": null,
   "id": "65577272",
   "metadata": {},
   "outputs": [],
   "source": [
    "categories = \"Payroll|Bills|Rent|Travel|Diezmo|Mama|Marky|Shopping|Food|Car|Internet\"\n",
    "df.loc[df.index.str.contains(categories)]\n",
    "df.loc[df.index.str.contains(categories)].sum().plot(kind='bar', figsize=(6,5), title=\"Changes\")"
   ]
  },
  {
   "cell_type": "markdown",
   "id": "a300d871-03c3-4c1c-91de-72d87e7ee8bc",
   "metadata": {},
   "source": [
    "### Deltas"
   ]
  },
  {
   "cell_type": "code",
   "execution_count": null,
   "id": "d5a51366-38d1-49fa-9f72-fdc2e1851957",
   "metadata": {},
   "outputs": [],
   "source": [
    "S.deltas"
   ]
  },
  {
   "cell_type": "code",
   "execution_count": null,
   "id": "1de86460-6dce-4f67-b20e-26c0fd98b192",
   "metadata": {},
   "outputs": [],
   "source": [
    "S.deltas.sum()"
   ]
  },
  {
   "cell_type": "markdown",
   "id": "ae8d23f8-dca9-47fd-907b-9c008590db45",
   "metadata": {},
   "source": [
    "### Check a month"
   ]
  },
  {
   "cell_type": "code",
   "execution_count": null,
   "id": "8ff2c323-51ce-40f9-aed7-230c91a5cc19",
   "metadata": {},
   "outputs": [],
   "source": [
    "s = S.get(\"2025-03\")"
   ]
  },
  {
   "cell_type": "code",
   "execution_count": null,
   "id": "0dab49a5-1b1c-4010-bf6c-d1c07b9a20ad",
   "metadata": {},
   "outputs": [],
   "source": [
    "s.comparison.sort_values(\"delta\")"
   ]
  },
  {
   "cell_type": "code",
   "execution_count": null,
   "id": "1e44d3b5-d57c-4a69-97ad-e4781ed08ed0",
   "metadata": {},
   "outputs": [],
   "source": [
    "df = s.statement\n",
    "df[df[\"type\"].str.contains(\"Marky\")]"
   ]
  },
  {
   "cell_type": "markdown",
   "id": "2513e1be-0c20-4d85-a7bb-acd02c4739a1",
   "metadata": {},
   "source": [
    "### Average values all time"
   ]
  },
  {
   "cell_type": "code",
   "execution_count": null,
   "id": "4a70464c-9a02-43de-b50f-691e6d969cac",
   "metadata": {},
   "outputs": [],
   "source": [
    "S.summary.mean(axis=1)"
   ]
  }
 ],
 "metadata": {
  "kernelspec": {
   "display_name": "html-parsing",
   "language": "python",
   "name": "python3"
  },
  "language_info": {
   "codemirror_mode": {
    "name": "ipython",
    "version": 3
   },
   "file_extension": ".py",
   "mimetype": "text/x-python",
   "name": "python",
   "nbconvert_exporter": "python",
   "pygments_lexer": "ipython3",
   "version": "3.10.12"
  }
 },
 "nbformat": 4,
 "nbformat_minor": 5
}
